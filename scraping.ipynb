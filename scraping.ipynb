{
 "cells": [
  {
   "cell_type": "markdown",
   "metadata": {
    "colab_type": "text",
    "id": "JFjPciCYw1Pg"
   },
   "source": [
    "# Road to Pokémon Master!\n",
    "\n",
    "Welcome to this data science hands-on! This notebook contains following contents;\n",
    "\n",
    "1. Exploratory data analysis with [Pokemon with stats](https://www.kaggle.com/abcsds/pokemon#)\n",
    "2. Legendary pokémons detection\n",
    "3. \n"
   ]
  },
  {
   "cell_type": "code",
   "execution_count": null,
   "metadata": {
    "colab": {},
    "colab_type": "code",
    "id": "uDnjoi-EpQ5-"
   },
   "outputs": [],
   "source": [
    "import json\n",
    "import time\n",
    "from pathlib import Path\n",
    "import logging\n",
    "\n",
    "import requests\n",
    "from bs4 import BeautifulSoup\n",
    "from tqdm import tqdm"
   ]
  },
  {
   "cell_type": "code",
   "execution_count": null,
   "metadata": {
    "colab": {},
    "colab_type": "code",
    "id": "GENNq7ZmMcT1"
   },
   "outputs": [],
   "source": [
    "LADDER_URL = 'http://pokemonshowdown.com/ladder/{ladder}'\n",
    "USERNAME_URL = ('http://replay.pokemonshowdown.com/search/?output=html&'\n",
    "                'user={user}&format=&page={page}&output=html')\n",
    "REPLAY_URL = 'http://replay.pokemonshowdown.com/{replay_id}'\n",
    "SLEEP = 0.8\n",
    "save_dir = './data/battle'"
   ]
  },
  {
   "cell_type": "code",
   "execution_count": null,
   "metadata": {},
   "outputs": [],
   "source": [
    "# ladder = 'gen7battlespotsingles' # gen7\n",
    "ladder = 'gen8battlestadiumsingles' # gen8"
   ]
  },
  {
   "cell_type": "code",
   "execution_count": null,
   "metadata": {
    "colab": {},
    "colab_type": "code",
    "id": "9YNAm2R_Ieg1"
   },
   "outputs": [],
   "source": [
    "def top_users(save_dir, ladder):\n",
    "    save_dir = Path(save_dir)\n",
    "    save_dir.mkdir(exist_ok=True)\n",
    "    save_file = save_dir / '{}_top_users.json'.format(ladder)\n",
    "\n",
    "    url = LADDER_URL.format(ladder=ladder)\n",
    "    text = requests.get(url).text\n",
    "    soup = BeautifulSoup(text, 'html.parser')\n",
    "    users = [a.get('href')\n",
    "             for a in soup.find_all('a', {'class': 'subtle'})]\n",
    "    users = [Path(user).name for user in users]\n",
    "\n",
    "    save_file.write_text(json.dumps({'ladder': ladder, 'users': users}))"
   ]
  },
  {
   "cell_type": "code",
   "execution_count": null,
   "metadata": {
    "colab": {},
    "colab_type": "code",
    "id": "b-UzQi0zMSAA"
   },
   "outputs": [],
   "source": [
    "top_users(save_dir, ladder)"
   ]
  },
  {
   "cell_type": "code",
   "execution_count": null,
   "metadata": {
    "colab": {},
    "colab_type": "code",
    "id": "babAIKYXK2Ko"
   },
   "outputs": [],
   "source": [
    "def replay_ids(save_dir, users_file):\n",
    "    save_dir = Path(save_dir)\n",
    "\n",
    "    users_file = Path(users_file)\n",
    "    data = json.loads(users_file.read_text())\n",
    "\n",
    "    ladder = data['ladder']\n",
    "    users = data['users']\n",
    "\n",
    "    save_file = save_dir / '{}_replay_ids.json'.format(ladder)\n",
    "\n",
    "    all_replay_ids = {}\n",
    "\n",
    "    for user in tqdm(users):\n",
    "        logging.info('user = {}'.format(user))\n",
    "        replay_ids = []\n",
    "        alredy_ids = set()\n",
    "        for page in range(1, 100):\n",
    "            url = USERNAME_URL.format(\n",
    "                user=user,\n",
    "                page=page\n",
    "            )\n",
    "            html = requests.get(url).text\n",
    "            time.sleep(SLEEP)\n",
    "            soup = BeautifulSoup(html, 'html.parser')\n",
    "            links = soup.find_all('a')\n",
    "            ids = [link.get('href') for link in links]\n",
    "            if len(ids) == 0:\n",
    "                break\n",
    "\n",
    "            ids = [x for x in ids if ladder in x]\n",
    "            if len(ids) == 0:\n",
    "                continue\n",
    "            if ids[0] in alredy_ids or ids[-1] in alredy_ids:\n",
    "                break\n",
    "\n",
    "            replay_ids += ids\n",
    "            alredy_ids |= set(ids)\n",
    "        logging.info(len(replay_ids))\n",
    "        all_replay_ids[user] = replay_ids\n",
    "\n",
    "    save_file.write_text(json.dumps(\n",
    "        {'ladder': ladder, 'replay_ids': all_replay_ids}))"
   ]
  },
  {
   "cell_type": "code",
   "execution_count": null,
   "metadata": {
    "colab": {},
    "colab_type": "code",
    "id": "-YectX52MWJb"
   },
   "outputs": [],
   "source": [
    "replay_ids(save_dir, save_dir + f'/{ladder}_top_users.json')"
   ]
  },
  {
   "cell_type": "code",
   "execution_count": null,
   "metadata": {
    "colab": {},
    "colab_type": "code",
    "id": "0SHIEaRGMW3Y"
   },
   "outputs": [],
   "source": [
    "def battle_logs(save_dir, replay_ids_file):\n",
    "    save_dir = Path(save_dir)\n",
    "\n",
    "    replay_ids_file = Path(replay_ids_file)\n",
    "    data = json.loads(replay_ids_file.read_text())\n",
    "\n",
    "    ladder = data['ladder']\n",
    "    replay_ids = data['replay_ids']\n",
    "\n",
    "    save_file = save_dir / '{}_battle_logs.json'.format(ladder)\n",
    "    battle_logs = {}\n",
    "    sorted_reply_ids = sorted(replay_ids.items(), key=lambda x: x[0])\n",
    "\n",
    "    for user, replay_id_list in tqdm(sorted_reply_ids):\n",
    "        logging.info('user = {}'.format(user))\n",
    "        logs = []\n",
    "        for replay_id in replay_id_list:\n",
    "            html = requests.get(REPLAY_URL.format(replay_id=replay_id)).text\n",
    "            soup = BeautifulSoup(html, 'html.parser')\n",
    "            time.sleep(SLEEP)\n",
    "            log = soup.find('script', {'class': 'log'}).text\n",
    "            assert len(log) != 0\n",
    "            logs.append(log)\n",
    "\n",
    "        battle_logs[user] = logs\n",
    "\n",
    "    save_file.write_text(json.dumps(\n",
    "        {'ladder': ladder, 'battle_logs': battle_logs}))\n"
   ]
  },
  {
   "cell_type": "code",
   "execution_count": null,
   "metadata": {
    "colab": {},
    "colab_type": "code",
    "id": "gFAagi7hKuTJ"
   },
   "outputs": [],
   "source": [
    "battle_logs(save_dir, save_dir + f\"/{ladder}_replay_ids.json\")"
   ]
  },
  {
   "cell_type": "code",
   "execution_count": null,
   "metadata": {
    "colab": {},
    "colab_type": "code",
    "id": "TmGGMtYKTcG8"
   },
   "outputs": [],
   "source": [
    "import re\n",
    "USER_PLAYER = re.compile(r\"\\|player\\|(?P<player>.+?)\\|(?P<username>.+?)\\|.*?\")\n",
    "POKE = re.compile(r\"\\|poke\\|(?P<player>.+?)\\|(?P<poke>.+?)\\|.*?\")\n",
    "\n",
    "\n",
    "def to_id(name):\n",
    "    return re.sub(r'[^a-z0-9]+', '', name.lower())\n",
    "\n",
    "\n",
    "def parse_logs(save_dir, battle_logs_file):\n",
    "    print(save_dir, battle_logs_file)\n",
    "    save_dir = Path(save_dir)\n",
    "    battle_logs_file = Path(battle_logs_file)\n",
    "\n",
    "    data = json.loads(battle_logs_file.read_text())\n",
    "\n",
    "    ladder = data['ladder']\n",
    "    battle_logs = data['battle_logs']\n",
    "\n",
    "    save_file = save_dir / '{}_parsed_battle_logs.json'.format(ladder)\n",
    "\n",
    "    players_list = []\n",
    "    pokes_list = []\n",
    "\n",
    "    for user, battle_log_list in sorted(battle_logs.items(),\n",
    "                                        key=lambda x: x[0]):\n",
    "        logging.info('user = {}'.format(user))\n",
    "        for battle_log in battle_log_list:\n",
    "            players = {}\n",
    "            matches = USER_PLAYER.findall(battle_log)\n",
    "            for match in matches:\n",
    "                players[match[0]] = to_id(match[1])\n",
    "\n",
    "            pokes = {}\n",
    "            matches = POKE.findall(battle_log)\n",
    "            for match in matches:\n",
    "                player, poke = match\n",
    "                poke = to_id(poke.split(',')[0])\n",
    "\n",
    "                if player not in pokes:\n",
    "                    pokes[player] = []\n",
    "\n",
    "                pokes[player].append(poke)\n",
    "\n",
    "            players_list.append(players)\n",
    "            pokes_list.append(pokes)\n",
    "\n",
    "    save_file.write_text(json.dumps({\n",
    "        'ladder': ladder,\n",
    "        'players': players_list,\n",
    "        'pokes': pokes_list\n",
    "    }))\n"
   ]
  },
  {
   "cell_type": "code",
   "execution_count": null,
   "metadata": {
    "colab": {
     "base_uri": "https://localhost:8080/"
    },
    "colab_type": "code",
    "id": "1QWPl4NcTdKK",
    "outputId": "b53c49d8-e1fc-46ed-b388-dd129d194f8d"
   },
   "outputs": [],
   "source": [
    "parse_logs(save_dir, save_dir + f'/{ladder}_battle_logs.json')"
   ]
  },
  {
   "cell_type": "code",
   "execution_count": null,
   "metadata": {
    "colab": {},
    "colab_type": "code",
    "id": "TaHBPJKRXtMD"
   },
   "outputs": [],
   "source": [
    "import numpy as np\n",
    "import random\n",
    "\n",
    "\n",
    "def set_seed(random_seed):\n",
    "  random.seed(random_seed)\n",
    "  np.random.seed(random_seed)\n",
    "\n",
    "\n",
    "def preprocess(save_dir, parsed_battle_logs_file, random_seed=42):\n",
    "    set_seed(random_seed)\n",
    "    save_dir = Path(save_dir)\n",
    "    parsed_battle_logs_file = Path(parsed_battle_logs_file)\n",
    "\n",
    "    data = json.loads(parsed_battle_logs_file.read_text())\n",
    "    ladder = data['ladder']\n",
    "\n",
    "    save_file = save_dir / '{}_dataset.json'.format(ladder)\n",
    "\n",
    "    pokes = []\n",
    "    for poke in data['pokes']:\n",
    "        if not poke:\n",
    "            continue\n",
    "        if len(poke['p1']) == 6:\n",
    "            pokes.append(tuple(sorted(poke['p1'])))\n",
    "        if len(poke['p2']) == 6:\n",
    "            pokes.append(tuple(sorted(poke['p2'])))\n",
    "\n",
    "    uniq_pokes = list(set(pokes))\n",
    "\n",
    "    logging.info('reduce {} -> {} ({:.03f} %)'\n",
    "                .format(len(pokes), len(uniq_pokes),\n",
    "                        100 * len(uniq_pokes) / len(pokes)))\n",
    "\n",
    "    np.random.shuffle(uniq_pokes)\n",
    "    N = len(uniq_pokes)\n",
    "\n",
    "    train = uniq_pokes[N // 10:]\n",
    "    valid = uniq_pokes[:N // 10]\n",
    "\n",
    "    save_file.write_text(json.dumps({\n",
    "        'ladder': ladder,\n",
    "        'train': train,\n",
    "        'valid': valid\n",
    "    }))"
   ]
  },
  {
   "cell_type": "code",
   "execution_count": null,
   "metadata": {
    "colab": {
     "base_uri": "https://localhost:8080/"
    },
    "colab_type": "code",
    "id": "0Y9oVXm_Z4kQ",
    "outputId": "9a52f25d-7991-42c3-cebe-82d604c1f0c8"
   },
   "outputs": [],
   "source": [
    "preprocess(save_dir, save_dir + f'/{ladder}_parsed_battle_logs.json')"
   ]
  },
  {
   "cell_type": "code",
   "execution_count": null,
   "metadata": {
    "colab": {},
    "colab_type": "code",
    "id": "yL1D3L1taLvy"
   },
   "outputs": [],
   "source": [
    "save_dir = 'data'\n",
    "parsed_battle_logs_file = f'data/{ladder}_parsed_battle_logs.json'\n",
    "random_seed = 42\n",
    "set_seed(random_seed)\n",
    "save_dir = Path(save_dir)\n",
    "parsed_battle_logs_file = Path(parsed_battle_logs_file)\n",
    "\n",
    "data = json.loads(parsed_battle_logs_file.read_text())\n",
    "ladder = data['ladder']\n",
    "\n",
    "save_file = save_dir / '{}_dataset.json'.format(ladder)"
   ]
  },
  {
   "cell_type": "code",
   "execution_count": null,
   "metadata": {},
   "outputs": [],
   "source": [
    "data[\"pokes\"]"
   ]
  },
  {
   "cell_type": "code",
   "execution_count": null,
   "metadata": {},
   "outputs": [],
   "source": []
  }
 ],
 "metadata": {
  "colab": {
   "name": "scraping.ipynb",
   "provenance": [],
   "toc_visible": true
  },
  "kernelspec": {
   "display_name": "Python 3",
   "language": "python",
   "name": "python3"
  },
  "language_info": {
   "codemirror_mode": {
    "name": "ipython",
    "version": 3
   },
   "file_extension": ".py",
   "mimetype": "text/x-python",
   "name": "python",
   "nbconvert_exporter": "python",
   "pygments_lexer": "ipython3",
   "version": "3.8.1"
  }
 },
 "nbformat": 4,
 "nbformat_minor": 1
}
