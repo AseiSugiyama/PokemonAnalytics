{
  "nbformat": 4,
  "nbformat_minor": 0,
  "metadata": {
    "colab": {
      "name": "scraping.ipynb",
      "provenance": [],
      "toc_visible": true,
      "include_colab_link": true
    },
    "kernelspec": {
      "display_name": "Python 3",
      "language": "python",
      "name": "python3"
    },
    "language_info": {
      "codemirror_mode": {
        "name": "ipython",
        "version": 3
      },
      "file_extension": ".py",
      "mimetype": "text/x-python",
      "name": "python",
      "nbconvert_exporter": "python",
      "pygments_lexer": "ipython3",
      "version": "3.8.1"
    }
  },
  "cells": [
    {
      "cell_type": "markdown",
      "metadata": {
        "id": "view-in-github",
        "colab_type": "text"
      },
      "source": [
        "<a href=\"https://colab.research.google.com/github/AseiSugiyama/PokemonAnalytics/blob/master/scraping.ipynb\" target=\"_parent\"><img src=\"https://colab.research.google.com/assets/colab-badge.svg\" alt=\"Open In Colab\"/></a>"
      ]
    },
    {
      "cell_type": "markdown",
      "metadata": {
        "colab_type": "text",
        "id": "JFjPciCYw1Pg"
      },
      "source": [
        "# Scrape Pokémon battle results dataset \n",
        "\n",
        "To analyze pokemon battle, pokemon battle result dataset is required. We are going to build it from [Pokémon Showdown](https://pokemonshowdown.com/) battle result. In this notebook, we use [Requests](https://2.python-requests.org/en/master/#) to download battle results and [Beautiful Soup](https://www.crummy.com/software/BeautifulSoup/) to parse its result.\n",
        "\n",
        "Almost all codes are from [odanado/poke2vec](https://github.com/odanado/poke2vec). This notebook add some explanation to it.\n",
        "\n",
        "## Setup"
      ]
    },
    {
      "cell_type": "code",
      "metadata": {
        "colab_type": "code",
        "id": "uDnjoi-EpQ5-",
        "colab": {}
      },
      "source": [
        "import json\n",
        "import time\n",
        "from pathlib import Path\n",
        "import logging\n",
        "\n",
        "import requests\n",
        "from bs4 import BeautifulSoup\n",
        "from tqdm import tqdm"
      ],
      "execution_count": 0,
      "outputs": []
    },
    {
      "cell_type": "code",
      "metadata": {
        "colab_type": "code",
        "id": "GENNq7ZmMcT1",
        "colab": {}
      },
      "source": [
        "LADDER_URL = 'http://pokemonshowdown.com/ladder/{ladder}'\n",
        "USERNAME_URL = ('http://replay.pokemonshowdown.com/search/?output=html&'\n",
        "                'user={user}&format=&page={page}&output=html')\n",
        "REPLAY_URL = 'http://replay.pokemonshowdown.com/{replay_id}'\n",
        "SLEEP = 0.8\n",
        "save_dir = './data/battle'"
      ],
      "execution_count": 0,
      "outputs": []
    },
    {
      "cell_type": "markdown",
      "metadata": {
        "id": "c_WI0JcFoTvD",
        "colab_type": "text"
      },
      "source": [
        "We can choose the \"generation\". Default is generation 8 (Sword and Shield). If you want to correct all pokémon before generation 7 (Sun and Moon), uncomment following code."
      ]
    },
    {
      "cell_type": "code",
      "metadata": {
        "id": "a11XCO5LoTvD",
        "colab_type": "code",
        "colab": {}
      },
      "source": [
        "ladder = 'gen8battlestadiumsingles' # gen8\n",
        "# ladder = 'gen7battlespotsingles' # gen7"
      ],
      "execution_count": 0,
      "outputs": []
    },
    {
      "cell_type": "markdown",
      "metadata": {
        "id": "bBsEzRFYoTvF",
        "colab_type": "text"
      },
      "source": [
        "## Download top users"
      ]
    },
    {
      "cell_type": "code",
      "metadata": {
        "colab_type": "code",
        "id": "9YNAm2R_Ieg1",
        "colab": {}
      },
      "source": [
        "def top_users(save_dir, ladder):\n",
        "    save_dir = Path(save_dir)\n",
        "    save_dir.mkdir(exist_ok=True)\n",
        "    save_file = save_dir / '{}_top_users.json'.format(ladder)\n",
        "\n",
        "    url = LADDER_URL.format(ladder=ladder)\n",
        "    text = requests.get(url).text\n",
        "    soup = BeautifulSoup(text, 'html.parser')\n",
        "    users = [a.get('href')\n",
        "             for a in soup.find_all('a', {'class': 'subtle'})]\n",
        "    users = [Path(user).name for user in users]\n",
        "\n",
        "    save_file.write_text(json.dumps({'ladder': ladder, 'users': users}))"
      ],
      "execution_count": 0,
      "outputs": []
    },
    {
      "cell_type": "code",
      "metadata": {
        "colab_type": "code",
        "id": "b-UzQi0zMSAA",
        "colab": {}
      },
      "source": [
        "top_users(save_dir, ladder)"
      ],
      "execution_count": 0,
      "outputs": []
    },
    {
      "cell_type": "markdown",
      "metadata": {
        "id": "JhXx6rbDoTvK",
        "colab_type": "text"
      },
      "source": [
        "## Download replay ids\n",
        "\n",
        "Pokemon showdown provides battle replay. You can watch each saved battle with graphical game simulator, for example [[Gen 8] Battle Stadium Singles replay: zvws77 vs. ABCWXYZ - Pokémon Showdown](https://replay.pokemonshowdown.com/gen8battlestadiumsingles-1044334093). It's uri has the form of `https://replay.pokemonshowdown.com/{ladder}-{replayid}`. Let's get replay ids from the top uses list!"
      ]
    },
    {
      "cell_type": "code",
      "metadata": {
        "colab_type": "code",
        "id": "babAIKYXK2Ko",
        "colab": {}
      },
      "source": [
        "def replay_ids(save_dir, users_file):\n",
        "    save_dir = Path(save_dir)\n",
        "\n",
        "    users_file = Path(users_file)\n",
        "    data = json.loads(users_file.read_text())\n",
        "\n",
        "    ladder = data['ladder']\n",
        "    users = data['users']\n",
        "\n",
        "    save_file = save_dir / '{}_replay_ids.json'.format(ladder)\n",
        "\n",
        "    all_replay_ids = {}\n",
        "\n",
        "    for user in tqdm(users):\n",
        "        logging.info('user = {}'.format(user))\n",
        "        replay_ids = []\n",
        "        alredy_ids = set()\n",
        "        for page in range(1, 100):\n",
        "            url = USERNAME_URL.format(\n",
        "                user=user,\n",
        "                page=page\n",
        "            )\n",
        "            html = requests.get(url).text\n",
        "            time.sleep(SLEEP)\n",
        "            soup = BeautifulSoup(html, 'html.parser')\n",
        "            links = soup.find_all('a')\n",
        "            ids = [link.get('href') for link in links]\n",
        "            if len(ids) == 0:\n",
        "                break\n",
        "\n",
        "            ids = [x for x in ids if ladder in x]\n",
        "            if len(ids) == 0:\n",
        "                continue\n",
        "            if ids[0] in alredy_ids or ids[-1] in alredy_ids:\n",
        "                break\n",
        "\n",
        "            replay_ids += ids\n",
        "            alredy_ids |= set(ids)\n",
        "        logging.info(len(replay_ids))\n",
        "        all_replay_ids[user] = replay_ids\n",
        "\n",
        "    save_file.write_text(json.dumps(\n",
        "        {'ladder': ladder, 'replay_ids': all_replay_ids}))"
      ],
      "execution_count": 0,
      "outputs": []
    },
    {
      "cell_type": "markdown",
      "metadata": {
        "id": "iZl-xiPHoTvM",
        "colab_type": "text"
      },
      "source": [
        "Note: This will take over **30 minits** to finish."
      ]
    },
    {
      "cell_type": "code",
      "metadata": {
        "colab_type": "code",
        "id": "-YectX52MWJb",
        "colab": {}
      },
      "source": [
        "replay_ids(save_dir, save_dir + f'/{ladder}_top_users.json')"
      ],
      "execution_count": 0,
      "outputs": []
    },
    {
      "cell_type": "markdown",
      "metadata": {
        "id": "ZD9uEPUkoTvP",
        "colab_type": "text"
      },
      "source": [
        "## Download each battle log\n",
        "\n",
        "We can get battle logs by followings;\n",
        "\n",
        "1. Download replay page ( https://replay.pokemonshowdown.com/{ladder}-{replayid} ) and parse it.\n",
        "2. Download logs from https://replay.pokemonshowdown.com/{ladder}-{replayid}.log\n",
        "3. Download annotated json from https://replay.pokemonshowdown.com/{ladder}-{replayid}.json\n",
        "\n",
        "In this notebook, we try to download replay page and parse it (1). If you start it from scratch, it is recommended to download annotated json (3) ."
      ]
    },
    {
      "cell_type": "code",
      "metadata": {
        "colab_type": "code",
        "id": "0SHIEaRGMW3Y",
        "colab": {}
      },
      "source": [
        "def battle_logs(save_dir, replay_ids_file):\n",
        "    save_dir = Path(save_dir)\n",
        "\n",
        "    replay_ids_file = Path(replay_ids_file)\n",
        "    data = json.loads(replay_ids_file.read_text())\n",
        "\n",
        "    ladder = data['ladder']\n",
        "    replay_ids = data['replay_ids']\n",
        "\n",
        "    save_file = save_dir / '{}_battle_logs.json'.format(ladder)\n",
        "    battle_logs = {}\n",
        "    sorted_reply_ids = sorted(replay_ids.items(), key=lambda x: x[0])\n",
        "\n",
        "    for user, replay_id_list in tqdm(sorted_reply_ids):\n",
        "        logging.info('user = {}'.format(user))\n",
        "        logs = []\n",
        "        for replay_id in replay_id_list:\n",
        "            html = requests.get(REPLAY_URL.format(replay_id=replay_id)).text\n",
        "            soup = BeautifulSoup(html, 'html.parser')\n",
        "            time.sleep(SLEEP)\n",
        "            log = soup.find('script', {'class': 'log'}).text\n",
        "            assert len(log) != 0\n",
        "            logs.append(log)\n",
        "\n",
        "        battle_logs[user] = logs\n",
        "\n",
        "    save_file.write_text(json.dumps(\n",
        "        {'ladder': ladder, 'battle_logs': battle_logs}))\n"
      ],
      "execution_count": 0,
      "outputs": []
    },
    {
      "cell_type": "markdown",
      "metadata": {
        "id": "micaRPBXoTvS",
        "colab_type": "text"
      },
      "source": [
        "Note: This will take over **60 minits** to finish."
      ]
    },
    {
      "cell_type": "code",
      "metadata": {
        "colab_type": "code",
        "id": "gFAagi7hKuTJ",
        "colab": {}
      },
      "source": [
        "battle_logs(save_dir, save_dir + f\"/{ladder}_replay_ids.json\")"
      ],
      "execution_count": 0,
      "outputs": []
    },
    {
      "cell_type": "markdown",
      "metadata": {
        "id": "wjqWwz2foTvU",
        "colab_type": "text"
      },
      "source": [
        "## Parse battle logs\n",
        "\n",
        "Battle logs from Pokémon showdown contains whole actions of players. However, we need informations about only names of pokémon in each players party. Let's parse the log and extract it!"
      ]
    },
    {
      "cell_type": "code",
      "metadata": {
        "colab_type": "code",
        "id": "TmGGMtYKTcG8",
        "colab": {}
      },
      "source": [
        "import re\n",
        "USER_PLAYER = re.compile(r\"\\|player\\|(?P<player>.+?)\\|(?P<username>.+?)\\|.*?\")\n",
        "POKE = re.compile(r\"\\|poke\\|(?P<player>.+?)\\|(?P<poke>.+?)\\|.*?\")\n",
        "\n",
        "\n",
        "def to_id(name):\n",
        "    return re.sub(r'[^a-z0-9]+', '', name.lower())\n",
        "\n",
        "\n",
        "def parse_logs(save_dir, battle_logs_file):\n",
        "    print(save_dir, battle_logs_file)\n",
        "    save_dir = Path(save_dir)\n",
        "    battle_logs_file = Path(battle_logs_file)\n",
        "\n",
        "    data = json.loads(battle_logs_file.read_text())\n",
        "\n",
        "    ladder = data['ladder']\n",
        "    battle_logs = data['battle_logs']\n",
        "\n",
        "    save_file = save_dir / '{}_parsed_battle_logs.json'.format(ladder)\n",
        "\n",
        "    players_list = []\n",
        "    pokes_list = []\n",
        "\n",
        "    for user, battle_log_list in sorted(battle_logs.items(),\n",
        "                                        key=lambda x: x[0]):\n",
        "        logging.info('user = {}'.format(user))\n",
        "        for battle_log in battle_log_list:\n",
        "            players = {}\n",
        "            matches = USER_PLAYER.findall(battle_log)\n",
        "            for match in matches:\n",
        "                players[match[0]] = to_id(match[1])\n",
        "\n",
        "            pokes = {}\n",
        "            matches = POKE.findall(battle_log)\n",
        "            for match in matches:\n",
        "                player, poke = match\n",
        "                poke = to_id(poke.split(',')[0])\n",
        "\n",
        "                if player not in pokes:\n",
        "                    pokes[player] = []\n",
        "\n",
        "                pokes[player].append(poke)\n",
        "\n",
        "            players_list.append(players)\n",
        "            pokes_list.append(pokes)\n",
        "\n",
        "    save_file.write_text(json.dumps({\n",
        "        'ladder': ladder,\n",
        "        'players': players_list,\n",
        "        'pokes': pokes_list\n",
        "    }))\n"
      ],
      "execution_count": 0,
      "outputs": []
    },
    {
      "cell_type": "code",
      "metadata": {
        "colab_type": "code",
        "id": "1QWPl4NcTdKK",
        "colab": {}
      },
      "source": [
        "parse_logs(save_dir, save_dir + f'/{ladder}_battle_logs.json')"
      ],
      "execution_count": 0,
      "outputs": []
    },
    {
      "cell_type": "markdown",
      "metadata": {
        "id": "njOZ_2lgoTvZ",
        "colab_type": "text"
      },
      "source": [
        "## Load bag of the pokémons\n",
        "\n",
        "Finally, we finished to build our dataset. Let's check it."
      ]
    },
    {
      "cell_type": "code",
      "metadata": {
        "colab_type": "code",
        "id": "yL1D3L1taLvy",
        "colab": {}
      },
      "source": [
        "parsed_battle_logs_file = save_dir + f'/{ladder}_parsed_battle_logs.json'\n",
        "parsed_battle_logs_file = Path(parsed_battle_logs_file)\n",
        "data = json.loads(parsed_battle_logs_file.read_text())"
      ],
      "execution_count": 0,
      "outputs": []
    },
    {
      "cell_type": "code",
      "metadata": {
        "id": "Ja7F1vUloTvb",
        "colab_type": "code",
        "colab": {}
      },
      "source": [
        "data[\"pokes\"][:3]"
      ],
      "execution_count": 0,
      "outputs": []
    },
    {
      "cell_type": "markdown",
      "metadata": {
        "id": "YL7rUrx9oTvd",
        "colab_type": "text"
      },
      "source": [
        "## Data cleansing\n",
        "\n",
        "To make our dataset more easy to use, let's clean up our pokémon dataset! For cleaning up, we try followings;\n",
        "\n",
        "1. Flatten it, we do not need to know `p1` or `p2`.\n",
        "2. Standarize it, make each party has six pokémons.\n",
        "3. Splite it into train-validation dataset."
      ]
    },
    {
      "cell_type": "code",
      "metadata": {
        "colab_type": "code",
        "id": "TaHBPJKRXtMD",
        "colab": {}
      },
      "source": [
        "import numpy as np\n",
        "import random\n",
        "\n",
        "\n",
        "def set_seed(random_seed):\n",
        "  random.seed(random_seed)\n",
        "  np.random.seed(random_seed)\n",
        "\n",
        "\n",
        "def preprocess(save_dir, parsed_battle_logs_file, random_seed=42):\n",
        "    set_seed(random_seed)\n",
        "    save_dir = Path(save_dir)\n",
        "    parsed_battle_logs_file = Path(parsed_battle_logs_file)\n",
        "\n",
        "    data = json.loads(parsed_battle_logs_file.read_text())\n",
        "    ladder = data['ladder']\n",
        "\n",
        "    save_file = save_dir / '{}_dataset.json'.format(ladder)\n",
        "\n",
        "    pokes = []\n",
        "    for poke in data['pokes']:\n",
        "        if not poke:\n",
        "            continue\n",
        "        if len(poke['p1']) == 6:\n",
        "            pokes.append(tuple(sorted(poke['p1'])))\n",
        "        if len(poke['p2']) == 6:\n",
        "            pokes.append(tuple(sorted(poke['p2'])))\n",
        "\n",
        "    uniq_pokes = list(set(pokes))\n",
        "\n",
        "    logging.info('reduce {} -> {} ({:.03f} %)'\n",
        "                .format(len(pokes), len(uniq_pokes),\n",
        "                        100 * len(uniq_pokes) / len(pokes)))\n",
        "\n",
        "    np.random.shuffle(uniq_pokes)\n",
        "    N = len(uniq_pokes)\n",
        "\n",
        "    train = uniq_pokes[N // 10:]\n",
        "    valid = uniq_pokes[:N // 10]\n",
        "\n",
        "    save_file.write_text(json.dumps({\n",
        "        'ladder': ladder,\n",
        "        'train': train,\n",
        "        'valid': valid\n",
        "    }))"
      ],
      "execution_count": 0,
      "outputs": []
    },
    {
      "cell_type": "code",
      "metadata": {
        "colab_type": "code",
        "id": "0Y9oVXm_Z4kQ",
        "colab": {}
      },
      "source": [
        "preprocess(save_dir, save_dir + f'/{ladder}_parsed_battle_logs.json')"
      ],
      "execution_count": 0,
      "outputs": []
    },
    {
      "cell_type": "markdown",
      "metadata": {
        "id": "8ozKz_1ioTvh",
        "colab_type": "text"
      },
      "source": [
        "Let's check it."
      ]
    },
    {
      "cell_type": "code",
      "metadata": {
        "id": "VFI0MBMpoTvi",
        "colab_type": "code",
        "colab": {}
      },
      "source": [
        "parsed_battle_logs_file = save_dir + f'/{ladder}_dataset.json'\n",
        "parsed_battle_logs_file = Path(parsed_battle_logs_file)\n",
        "data = json.loads(parsed_battle_logs_file.read_text())"
      ],
      "execution_count": 0,
      "outputs": []
    },
    {
      "cell_type": "code",
      "metadata": {
        "id": "gHofZ8iioTvj",
        "colab_type": "code",
        "colab": {}
      },
      "source": [
        "data[\"train\"][:3]"
      ],
      "execution_count": 0,
      "outputs": []
    }
  ]
}