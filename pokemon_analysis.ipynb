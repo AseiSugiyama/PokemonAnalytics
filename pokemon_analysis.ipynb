{
  "nbformat": 4,
  "nbformat_minor": 0,
  "metadata": {
    "colab": {
      "name": "pokemon_analysis.ipynb",
      "provenance": []
    },
    "kernelspec": {
      "name": "python3",
      "display_name": "Python 3"
    }
  },
  "cells": [
    {
      "cell_type": "markdown",
      "metadata": {
        "colab_type": "text",
        "id": "EkZ6n-cWnidv"
      },
      "source": [
        "# Road to Pokémon Master!\n",
        "\n",
        "Welcome to this data science hands-on! This notebook contains following contents;\n",
        "\n",
        "1. Exploratory data analysis with [The Complete Pokemon Dataset](https://www.kaggle.com/rounakbanik/pokemon#pokemon.csv)\n",
        "2. Legendary pokémons detection\n",
        "3. Pokémon battle dataset analysis\n"
      ]
    },
    {
      "cell_type": "code",
      "execution_count": 0,
      "metadata": {
        "colab": {},
        "colab_type": "code",
        "id": "ei1SYPZonb31"
      },
      "outputs": [],
      "source": []
    },
    {
      "cell_type": "markdown",
      "execution_count": null,
      "metadata": {},
      "outputs": [],
      "source": [
        "## More datsets!\n",
        "\n",
        "Following datasets are available to explore the pokèmon world.\n",
        "\n",
        "- Pokemon Sun and Moon (Gen 7) Stats https://www.kaggle.com/mylesoneill/pokemon-sun-and-moon-gen-7-stats\n",
        "- Pokemon with stats Kaggle https://www.kaggle.com/abcsds/pokemon\n"
      ]
    }
  ]
}