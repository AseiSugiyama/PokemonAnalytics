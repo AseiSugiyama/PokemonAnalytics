{
  "nbformat": 4,
  "nbformat_minor": 0,
  "metadata": {
    "colab": {
      "name": "pokemon_analysis.ipynb",
      "provenance": [],
      "collapsed_sections": [],
      "toc_visible": true,
      "include_colab_link": true
    },
    "kernelspec": {
      "name": "python3",
      "display_name": "Python 3"
    }
  },
  "cells": [
    {
      "cell_type": "markdown",
      "metadata": {
        "id": "view-in-github",
        "colab_type": "text"
      },
      "source": [
        "<a href=\"https://colab.research.google.com/github/AseiSugiyama/PokemonAnalytics/blob/add-pokemon-analysis-notebook/pokemon_analysis.ipynb\" target=\"_parent\"><img src=\"https://colab.research.google.com/assets/colab-badge.svg\" alt=\"Open In Colab\"/></a>"
      ]
    },
    {
      "cell_type": "markdown",
      "metadata": {
        "colab_type": "text",
        "id": "EkZ6n-cWnidv"
      },
      "source": [
        "# Road to Pokémon Master!\n",
        "\n",
        "Welcome to this data science hands-on! This notebook contains following contents.\n",
        "\n",
        "1. Exploratory data analysis with [The Complete Pokemon Dataset](https://www.kaggle.com/rounakbanik/pokemon)\n",
        "2. Statistical tests\n",
        "3. Outlier detection\n",
        "4. Legendary pokémons prediction\n",
        "5. Pokémon battle usage ranking\n",
        "6. Co-occurence network"
      ]
    },
    {
      "cell_type": "markdown",
      "metadata": {
        "id": "SL4T3McXG6wO",
        "colab_type": "text"
      },
      "source": [
        "## Setup\n",
        "\n",
        "In Colab, it is required to hit \"Restart Runtime\" at the first time."
      ]
    },
    {
      "cell_type": "code",
      "metadata": {
        "id": "D6U1KGNICuip",
        "colab_type": "code",
        "colab": {}
      },
      "source": [
        "!pip install swifter\n",
        "!pip install seaborn\n",
        "!pip install statsmodels\n",
        "!pip install scikit-learn\n",
        "!pip install numpy\n",
        "!pip install matplotlib\n",
        "!pip install pyvis\n",
        "!pip install -U pandas-profiling[notebook,html]"
      ],
      "execution_count": 0,
      "outputs": []
    },
    {
      "cell_type": "markdown",
      "metadata": {
        "id": "O5UVxUVE6Xnc",
        "colab_type": "text"
      },
      "source": [
        "## Download datasets"
      ]
    },
    {
      "cell_type": "code",
      "metadata": {
        "colab_type": "code",
        "id": "ei1SYPZonb31",
        "colab": {}
      },
      "source": [
        "!rm -rf PokemonAnalytics\n",
        "!git clone https://github.com/AseiSugiyama/PokemonAnalytics.git"
      ],
      "execution_count": 0,
      "outputs": []
    },
    {
      "cell_type": "code",
      "metadata": {
        "id": "mo3KATx3DxEk",
        "colab_type": "code",
        "colab": {}
      },
      "source": [
        "!ls -R ./PokemonAnalytics/data"
      ],
      "execution_count": 0,
      "outputs": []
    },
    {
      "cell_type": "markdown",
      "metadata": {
        "id": "WeH-vdJnt1Ip",
        "colab_type": "text"
      },
      "source": [
        "## Pokèdex"
      ]
    },
    {
      "cell_type": "code",
      "metadata": {
        "id": "K6VLkx2sDc7S",
        "colab_type": "code",
        "colab": {}
      },
      "source": [
        "import pandas as pd\n",
        "import swifter\n",
        "%config InlineBackend.figure_formats = {'png', 'retina'}"
      ],
      "execution_count": 0,
      "outputs": []
    },
    {
      "cell_type": "code",
      "metadata": {
        "id": "CShdqwVdDkAX",
        "colab_type": "code",
        "colab": {}
      },
      "source": [
        "usecols = [\n",
        "           \"pokedex_number\",\n",
        "           \"name\",\n",
        "           \"japanese_name\",\n",
        "           \"type1\",\n",
        "           \"type2\",\n",
        "           \"height_m\",\n",
        "           \"weight_kg\",\n",
        "           \"hp\",\n",
        "           \"attack\",\n",
        "           \"defense\",\n",
        "           \"sp_attack\",\n",
        "           \"sp_defense\",\n",
        "           \"speed\",\n",
        "           \"base_egg_steps\",\n",
        "           \"base_happiness\",\n",
        "           \"capture_rate\",\n",
        "           \"base_total\",\n",
        "           \"classfication\",\n",
        "           \"experience_growth\",\n",
        "           \"generation\",\n",
        "           \"is_legendary\",\n",
        "]\n",
        "\n",
        "raw_pokedex = pd.read_csv(\n",
        "    \"./PokemonAnalytics/data/pokedex/Pokemon.csv\",\n",
        "    usecols=usecols,\n",
        "    index_col=\"pokedex_number\",\n",
        ")[usecols[1:]].rename(columns={\n",
        "    \"height_m\":\"height\",\n",
        "    \"weight_kg\":\"weight\",\n",
        "})"
      ],
      "execution_count": 0,
      "outputs": []
    },
    {
      "cell_type": "code",
      "metadata": {
        "id": "OPvfegDZFpJF",
        "colab_type": "code",
        "colab": {}
      },
      "source": [
        "raw_pokedex.head()"
      ],
      "execution_count": 0,
      "outputs": []
    },
    {
      "cell_type": "markdown",
      "metadata": {
        "id": "cQ9Cm_U76b4e",
        "colab_type": "text"
      },
      "source": [
        "### Preprocessing"
      ]
    },
    {
      "cell_type": "markdown",
      "metadata": {
        "id": "i9SutQPw6nRN",
        "colab_type": "text"
      },
      "source": [
        "#### Anomalies"
      ]
    },
    {
      "cell_type": "code",
      "metadata": {
        "id": "gOduhfUcGK7I",
        "colab_type": "code",
        "colab": {}
      },
      "source": [
        "raw_pokedex.dtypes"
      ],
      "execution_count": 0,
      "outputs": []
    },
    {
      "cell_type": "code",
      "metadata": {
        "id": "sxrhFZFZGOjW",
        "colab_type": "code",
        "colab": {}
      },
      "source": [
        "def is_int(value):\n",
        "  try:\n",
        "    int(value)\n",
        "    return True\n",
        "  except ValueError:\n",
        "    return False\n",
        "\n",
        "capture_rate_int_values = raw_pokedex.capture_rate.swifter.apply(is_int)\n",
        "raw_pokedex[~capture_rate_int_values]"
      ],
      "execution_count": 0,
      "outputs": []
    },
    {
      "cell_type": "code",
      "metadata": {
        "id": "hiboyyJvG9Yt",
        "colab_type": "code",
        "colab": {}
      },
      "source": [
        "raw_pokedex.loc[~capture_rate_int_values, [\"name\", \"japanese_name\", \"capture_rate\"]]"
      ],
      "execution_count": 0,
      "outputs": []
    },
    {
      "cell_type": "code",
      "metadata": {
        "id": "t2uAYwbWGv3Q",
        "colab_type": "code",
        "colab": {}
      },
      "source": [
        "raw_pokedex.at[774, \"capture_rate\"] = 30\n",
        "raw_pokedex = raw_pokedex.astype({\n",
        "    \"capture_rate\":int\n",
        "})\n",
        "raw_pokedex.dtypes"
      ],
      "execution_count": 0,
      "outputs": []
    },
    {
      "cell_type": "markdown",
      "metadata": {
        "id": "zNOtIaSs6xma",
        "colab_type": "text"
      },
      "source": [
        "#### Missing Values"
      ]
    },
    {
      "cell_type": "code",
      "metadata": {
        "id": "2ydOSQv7II1w",
        "colab_type": "code",
        "colab": {}
      },
      "source": [
        "raw_pokedex.isna().sum()"
      ],
      "execution_count": 0,
      "outputs": []
    },
    {
      "cell_type": "code",
      "metadata": {
        "id": "TM_I6rznIM9I",
        "colab_type": "code",
        "colab": {}
      },
      "source": [
        "raw_pokedex[raw_pokedex.height.isna()]"
      ],
      "execution_count": 0,
      "outputs": []
    },
    {
      "cell_type": "code",
      "metadata": {
        "id": "HxvoZi7xJC0p",
        "colab_type": "code",
        "colab": {}
      },
      "source": [
        "raw_pokedex[raw_pokedex.weight.isna()]"
      ],
      "execution_count": 0,
      "outputs": []
    },
    {
      "cell_type": "markdown",
      "metadata": {
        "id": "x7pBK6fo63MH",
        "colab_type": "text"
      },
      "source": [
        "Join data"
      ]
    },
    {
      "cell_type": "code",
      "metadata": {
        "id": "SVGmZN6tJGnJ",
        "colab_type": "code",
        "colab": {}
      },
      "source": [
        "weight_and_heights = pd.read_csv(\n",
        "    \"./PokemonAnalytics/data/pokedex/height_and_weight.csv\",\n",
        "    usecols=[\"ndex\", \"height\", \"weight\"],\n",
        ").drop_duplicates(\n",
        "    subset=['ndex'],\n",
        "    keep='first',\n",
        ").rename(columns={\n",
        "    \"height\":\"height_from_feet\",\n",
        "    \"weight\":\"weight_from_ponds\",\n",
        "})\n",
        "weight_and_heights.index = weight_and_heights.ndex\n",
        "weight_and_heights = weight_and_heights[[\"height_from_feet\", \"weight_from_ponds\"]]"
      ],
      "execution_count": 0,
      "outputs": []
    },
    {
      "cell_type": "code",
      "metadata": {
        "id": "VNdz55yeN_or",
        "colab_type": "code",
        "colab": {}
      },
      "source": [
        "joined_pokedex = pd.merge(\n",
        "    raw_pokedex.rename(columns={\n",
        "        \"height\":\"raw_height\",\n",
        "        \"weight\":\"raw_weight\",\n",
        "        }),\n",
        "    weight_and_heights,\n",
        "    left_on=\"pokedex_number\",\n",
        "    right_on=\"ndex\",\n",
        "    left_index=True,\n",
        "    right_index=True,\n",
        ")"
      ],
      "execution_count": 0,
      "outputs": []
    },
    {
      "cell_type": "code",
      "metadata": {
        "id": "8g1wMqHwtnWb",
        "colab_type": "code",
        "colab": {}
      },
      "source": [
        "joined_pokedex.head()"
      ],
      "execution_count": 0,
      "outputs": []
    },
    {
      "cell_type": "code",
      "metadata": {
        "id": "WVBzDYSTJlz-",
        "colab_type": "code",
        "colab": {}
      },
      "source": [
        "height_is_na = joined_pokedex.raw_height.isna().astype(int)\n",
        "weight_is_na = joined_pokedex.raw_weight.isna().astype(int)\n",
        "pokedex_without_na = joined_pokedex.fillna(value={\n",
        "    \"type2\":\"NONE\",\n",
        "    \"raw_height\":0.0,\n",
        "    \"raw_weight\":0.0,\n",
        "})\n",
        "pokedex_without_na[\"height_m\"] = (1 - height_is_na) * pokedex_without_na.raw_height + height_is_na * pokedex_without_na.height_from_feet\n",
        "pokedex_without_na[\"weight_kg\"] = (1 - weight_is_na) * pokedex_without_na.raw_weight + weight_is_na * pokedex_without_na.weight_from_ponds\n",
        "\n",
        "pokedex = pokedex_without_na.drop(columns=[\n",
        "                                           \"height_from_feet\",\n",
        "                                           \"weight_from_ponds\",\n",
        "                                           \"raw_height\",\n",
        "                                           \"raw_weight\",\n",
        "                                           ]\n",
        "                                  )[usecols[1:]].rename(columns={\n",
        "                                      \"height_m\":\"height\",\n",
        "                                      \"weight_kg\":\"weight\",})\n",
        "pokedex.head()"
      ],
      "execution_count": 0,
      "outputs": []
    },
    {
      "cell_type": "code",
      "metadata": {
        "id": "VbZ9fEGRxl9U",
        "colab_type": "code",
        "colab": {}
      },
      "source": [
        "pokedex[pokedex.index == 26] # Raichu height: 0.8m, weight: 30kg"
      ],
      "execution_count": 0,
      "outputs": []
    },
    {
      "cell_type": "code",
      "metadata": {
        "id": "Eyd4Pd6W0D8D",
        "colab_type": "code",
        "colab": {}
      },
      "source": [
        "pokedex[pokedex.is_legendary==1]"
      ],
      "execution_count": 0,
      "outputs": []
    },
    {
      "cell_type": "markdown",
      "metadata": {
        "id": "c_AptYS_4xbr",
        "colab_type": "text"
      },
      "source": [
        "### EDA"
      ]
    },
    {
      "cell_type": "markdown",
      "metadata": {
        "id": "uXWJzdGh7ABj",
        "colab_type": "text"
      },
      "source": [
        "#### Descriptive statistics"
      ]
    },
    {
      "cell_type": "code",
      "metadata": {
        "id": "AwB26wrz4wqE",
        "colab_type": "code",
        "colab": {}
      },
      "source": [
        "pokedex.describe()"
      ],
      "execution_count": 0,
      "outputs": []
    },
    {
      "cell_type": "code",
      "metadata": {
        "id": "ToOVi-1-0K5n",
        "colab_type": "code",
        "colab": {}
      },
      "source": [
        "from pandas_profiling import ProfileReport\n",
        "\n",
        "profile = ProfileReport(pokedex, title='Pokedex Profiling Report', html={'style':{'full_width':True}})\n",
        "profile"
      ],
      "execution_count": 0,
      "outputs": []
    },
    {
      "cell_type": "markdown",
      "metadata": {
        "id": "R1mUFelP45bA",
        "colab_type": "text"
      },
      "source": [
        "#### Generations"
      ]
    },
    {
      "cell_type": "code",
      "metadata": {
        "id": "tCaLZ_dY44HQ",
        "colab_type": "code",
        "colab": {}
      },
      "source": [
        "import seaborn as sns\n",
        "sns.factorplot(\n",
        "    x=\"generation\",\n",
        "    data=pokedex,\n",
        "    kind='count',\n",
        ")"
      ],
      "execution_count": 0,
      "outputs": []
    },
    {
      "cell_type": "code",
      "metadata": {
        "id": "oAb9uNjm7RNI",
        "colab_type": "code",
        "colab": {}
      },
      "source": [
        "sns.factorplot(\n",
        "    x='generation',\n",
        "    data=pokedex,\n",
        "    col='type1',\n",
        "    kind='count',\n",
        "    col_wrap=3\n",
        ")"
      ],
      "execution_count": 0,
      "outputs": []
    },
    {
      "cell_type": "markdown",
      "metadata": {
        "id": "jIAp4Fj8ABK3",
        "colab_type": "text"
      },
      "source": [
        "#### Types"
      ]
    },
    {
      "cell_type": "markdown",
      "metadata": {
        "id": "qQlTcg5cAKV1",
        "colab_type": "text"
      },
      "source": [
        "##### Type1"
      ]
    },
    {
      "cell_type": "code",
      "metadata": {
        "id": "1exa5cszANDD",
        "colab_type": "code",
        "colab": {}
      },
      "source": [
        "sns.factorplot(\n",
        "    y='type1',\n",
        "    data=pokedex,\n",
        "    kind='count',\n",
        "    order=pokedex['type1'].value_counts().index,\n",
        "    aspect=1.5,\n",
        "    color='darkblue'\n",
        ")"
      ],
      "execution_count": 0,
      "outputs": []
    },
    {
      "cell_type": "code",
      "metadata": {
        "id": "Dx2FqoquBAlC",
        "colab_type": "code",
        "colab": {}
      },
      "source": [
        "pokedex[pokedex.type1 == \"flying\"]"
      ],
      "execution_count": 0,
      "outputs": []
    },
    {
      "cell_type": "markdown",
      "metadata": {
        "id": "etDo2zaPAkhn",
        "colab_type": "text"
      },
      "source": [
        "##### Type 2"
      ]
    },
    {
      "cell_type": "code",
      "metadata": {
        "id": "FDQG6TW5ApZZ",
        "colab_type": "code",
        "colab": {}
      },
      "source": [
        "sns.factorplot(\n",
        "    y='type2',\n",
        "    data=pokedex,\n",
        "    kind='count',\n",
        "    order=pokedex['type2'].value_counts().index,\n",
        "    aspect=1.5,\n",
        "    color='darkblue'\n",
        ")"
      ],
      "execution_count": 0,
      "outputs": []
    },
    {
      "cell_type": "code",
      "metadata": {
        "id": "4DvlPCLWBKqA",
        "colab_type": "code",
        "colab": {}
      },
      "source": [
        "pokedex[pokedex.type2 == \"bug\"]"
      ],
      "execution_count": 0,
      "outputs": []
    },
    {
      "cell_type": "markdown",
      "metadata": {
        "id": "CE0VMwRdBVi6",
        "colab_type": "text"
      },
      "source": [
        "##### Type1 x Type2"
      ]
    },
    {
      "cell_type": "code",
      "metadata": {
        "id": "1EiyfltC8YTO",
        "colab_type": "code",
        "colab": {}
      },
      "source": [
        "pokedex.groupby(['type1', 'type2']).size().unstack()"
      ],
      "execution_count": 0,
      "outputs": []
    },
    {
      "cell_type": "code",
      "metadata": {
        "id": "PGLbBB_Z7_p5",
        "colab_type": "code",
        "colab": {}
      },
      "source": [
        "sns.heatmap(\n",
        "    pokedex.groupby(['type1', 'type2']).size().unstack(),\n",
        "    linewidths=1,\n",
        "    annot=True\n",
        ")"
      ],
      "execution_count": 0,
      "outputs": []
    },
    {
      "cell_type": "code",
      "metadata": {
        "id": "YQkLxd098L6v",
        "colab_type": "code",
        "colab": {}
      },
      "source": [
        "sns.heatmap(\n",
        "    pokedex[pokedex.type2 != \"NONE\"].groupby(['type1', 'type2']).size().unstack(),\n",
        "    linewidths=1,\n",
        "    annot=True,\n",
        ")"
      ],
      "execution_count": 0,
      "outputs": []
    },
    {
      "cell_type": "markdown",
      "metadata": {
        "id": "fDEXsajYCA0i",
        "colab_type": "text"
      },
      "source": [
        "#### Ranking"
      ]
    },
    {
      "cell_type": "markdown",
      "metadata": {
        "id": "x2m1psHtCY7e",
        "colab_type": "text"
      },
      "source": [
        "##### Strongest"
      ]
    },
    {
      "cell_type": "code",
      "metadata": {
        "id": "8Y1YFwQ5CAMC",
        "colab_type": "code",
        "colab": {}
      },
      "source": [
        "pokedex.sort_values('base_total', ascending=False).head(10)"
      ],
      "execution_count": 0,
      "outputs": []
    },
    {
      "cell_type": "markdown",
      "metadata": {
        "id": "lAEBeCWBCkhX",
        "colab_type": "text"
      },
      "source": [
        "##### Weakest"
      ]
    },
    {
      "cell_type": "code",
      "metadata": {
        "id": "gZdZpmQCCiPV",
        "colab_type": "code",
        "colab": {}
      },
      "source": [
        "pokedex.sort_values('base_total', ascending=True).head(10)"
      ],
      "execution_count": 0,
      "outputs": []
    },
    {
      "cell_type": "markdown",
      "metadata": {
        "id": "sQVQQ0gaCqnT",
        "colab_type": "text"
      },
      "source": [
        "##### HP"
      ]
    },
    {
      "cell_type": "code",
      "metadata": {
        "id": "PE9wxNiHCw9H",
        "colab_type": "code",
        "colab": {}
      },
      "source": [
        "pokedex.sort_values('hp', ascending=False).head(10)"
      ],
      "execution_count": 0,
      "outputs": []
    },
    {
      "cell_type": "markdown",
      "metadata": {
        "id": "lF_PFQQXC_mv",
        "colab_type": "text"
      },
      "source": [
        "##### Height\n"
      ]
    },
    {
      "cell_type": "code",
      "metadata": {
        "id": "VoAFK0BxDFYb",
        "colab_type": "code",
        "colab": {}
      },
      "source": [
        "pokedex.sort_values('height', ascending=False).head(10)"
      ],
      "execution_count": 0,
      "outputs": []
    },
    {
      "cell_type": "markdown",
      "metadata": {
        "id": "OFGAfB6QDRGE",
        "colab_type": "text"
      },
      "source": [
        "##### Weight"
      ]
    },
    {
      "cell_type": "code",
      "metadata": {
        "id": "aj-TrmTFDLEi",
        "colab_type": "code",
        "colab": {}
      },
      "source": [
        "pokedex.sort_values('weight', ascending=False).head(10)"
      ],
      "execution_count": 0,
      "outputs": []
    },
    {
      "cell_type": "markdown",
      "metadata": {
        "id": "WEa7q4lrDlsA",
        "colab_type": "text"
      },
      "source": [
        "### Statistical tests\n",
        "\n",
        "What type of pokèmon is xxxer than others?"
      ]
    },
    {
      "cell_type": "markdown",
      "metadata": {
        "id": "wmVmbSZoEdWQ",
        "colab_type": "text"
      },
      "source": [
        "#### Check data"
      ]
    },
    {
      "cell_type": "code",
      "metadata": {
        "id": "qwR8wmR8El9t",
        "colab_type": "code",
        "colab": {}
      },
      "source": [
        "sns.heatmap(\n",
        "    pokedex.groupby('type1').mean().loc[:, 'hp':'speed'], \n",
        "    linewidths=1,\n",
        "    cmap=\"YlGnBu\"\n",
        ")"
      ],
      "execution_count": 0,
      "outputs": []
    },
    {
      "cell_type": "code",
      "metadata": {
        "id": "srClFttiFq0A",
        "colab_type": "code",
        "colab": {}
      },
      "source": [
        "pokedex.groupby('type1').mean().loc[:, 'defense'].plot.bar()"
      ],
      "execution_count": 0,
      "outputs": []
    },
    {
      "cell_type": "code",
      "metadata": {
        "id": "Wrcqbat0FLIV",
        "colab_type": "code",
        "colab": {}
      },
      "source": [
        "sns.barplot(\n",
        "    y=\"type1\",\n",
        "    x=\"defense\",\n",
        "    data=pokedex,\n",
        "    order=pokedex.groupby(['type1']).mean().sort_values(\"defense\", ascending=False).index,\n",
        "    color=\"lightblue\",\n",
        ")"
      ],
      "execution_count": 0,
      "outputs": []
    },
    {
      "cell_type": "markdown",
      "metadata": {
        "id": "6YxuU0XALVEo",
        "colab_type": "text"
      },
      "source": [
        "#### Steel is harder than Rock?"
      ]
    },
    {
      "cell_type": "code",
      "metadata": {
        "id": "jAMdLdprSAsf",
        "colab_type": "code",
        "colab": {}
      },
      "source": [
        "from statsmodels.stats.weightstats import CompareMeans, DescrStatsW\n",
        "steels_stats = DescrStatsW(pokedex[pokedex.type1 == \"steel\"].defense.values)\n",
        "rocks_stats = DescrStatsW(pokedex[pokedex.type1 == \"rock\"].defense.values)\n",
        "compare_means = CompareMeans(steels_stats, rocks_stats)\n",
        "compare_means.summary()"
      ],
      "execution_count": 0,
      "outputs": []
    },
    {
      "cell_type": "markdown",
      "metadata": {
        "id": "K4keMdQlUqId",
        "colab_type": "text"
      },
      "source": [
        "#### Pairwise multiple test"
      ]
    },
    {
      "cell_type": "code",
      "metadata": {
        "id": "gGtnpxzNKx3R",
        "colab_type": "code",
        "colab": {}
      },
      "source": [
        "from statsmodels.stats.multicomp import pairwise_tukeyhsd, tukeyhsd\n",
        "multiple_test = pairwise_tukeyhsd(pokedex.defense, pokedex.type1, alpha=0.05)\n",
        "summary =  multiple_test.summary()\n",
        "(pd\n",
        " .DataFrame(summary.data[1:], columns=summary.data[0])[:20]\n",
        " .style.highlight_max([\"reject\"], axis=0))"
      ],
      "execution_count": 0,
      "outputs": []
    },
    {
      "cell_type": "markdown",
      "metadata": {
        "id": "ulbaEvX_ghFR",
        "colab_type": "text"
      },
      "source": [
        "Complete list"
      ]
    },
    {
      "cell_type": "code",
      "metadata": {
        "id": "4E_jwmlCgc8C",
        "colab_type": "code",
        "colab": {}
      },
      "source": [
        "summary"
      ],
      "execution_count": 0,
      "outputs": []
    },
    {
      "cell_type": "markdown",
      "metadata": {
        "id": "q4Bn7AfoU8bO",
        "colab_type": "text"
      },
      "source": [
        "### Outlier detection"
      ]
    },
    {
      "cell_type": "code",
      "metadata": {
        "id": "6-e6YJsAVJO4",
        "colab_type": "code",
        "colab": {}
      },
      "source": [
        "from sklearn.svm import OneClassSVM\n",
        "\n",
        "status = pokedex[[\"hp\", \"attack\", \"defense\", \"sp_attack\", \"sp_defense\", \"speed\"]]\n",
        "model = OneClassSVM(nu=0.01)\n",
        "model.fit(status)"
      ],
      "execution_count": 0,
      "outputs": []
    },
    {
      "cell_type": "code",
      "metadata": {
        "id": "-CFXTVnkXKOj",
        "colab_type": "code",
        "colab": {}
      },
      "source": [
        "pokedex[\"outlier\"] = (-model.predict(status) + 1) // 2\n",
        "pokedex[pokedex.outlier == 1][[\"name\", \"japanese_name\"] + status.columns.to_list()].style.bar([\"hp\", \"attack\", \"defense\", \"sp_attack\", \"sp_defense\", \"speed\"], color=\"lightblue\")"
      ],
      "execution_count": 0,
      "outputs": []
    },
    {
      "cell_type": "markdown",
      "metadata": {
        "id": "-aM8xJ_zcttR",
        "colab_type": "text"
      },
      "source": [
        "### Legendary pokèmon prediction"
      ]
    },
    {
      "cell_type": "markdown",
      "metadata": {
        "id": "dBxo8oALqEzd",
        "colab_type": "text"
      },
      "source": [
        "#### Train test split"
      ]
    },
    {
      "cell_type": "code",
      "metadata": {
        "id": "ImQJHTOyeBgg",
        "colab_type": "code",
        "colab": {}
      },
      "source": [
        "numerics = [\n",
        "            \"height\", \n",
        "            \"weight\", \n",
        "            \"hp\", \n",
        "            \"attack\",\n",
        "            \"defense\",\n",
        "            \"sp_attack\",\n",
        "            \"sp_defense\",\n",
        "            \"speed\",\n",
        "            \"base_egg_steps\",\n",
        "            \"base_happiness\",\n",
        "            \"capture_rate\",\n",
        "            \"experience_growth\"\n",
        "            ]\n",
        "train = pokedex[pokedex.generation < 7]\n",
        "test = pokedex[pokedex.generation == 7]\n",
        "X_train, y_train = train[numerics], train.is_legendary\n",
        "X_test, y_test = test[numerics], test.is_legendary"
      ],
      "execution_count": 0,
      "outputs": []
    },
    {
      "cell_type": "markdown",
      "metadata": {
        "id": "tyEWNxrDqInr",
        "colab_type": "text"
      },
      "source": [
        "#### Training"
      ]
    },
    {
      "cell_type": "code",
      "metadata": {
        "id": "rXNQdB2zfa1q",
        "colab_type": "code",
        "colab": {}
      },
      "source": [
        "from sklearn.ensemble import RandomForestClassifier\n",
        "model = RandomForestClassifier(random_state=42, criterion=\"entropy\")\n",
        "model.fit(X_train, y_train)"
      ],
      "execution_count": 0,
      "outputs": []
    },
    {
      "cell_type": "markdown",
      "metadata": {
        "id": "VA5QCsfbqL_M",
        "colab_type": "text"
      },
      "source": [
        "#### Inference"
      ]
    },
    {
      "cell_type": "code",
      "metadata": {
        "id": "TWKfkA4vg21R",
        "colab_type": "code",
        "colab": {}
      },
      "source": [
        "pokedex[\"predicted\"] = model.predict(pokedex[numerics])\n",
        "sun_moon = pokedex[pokedex.generation == 7]\n",
        "sun_moon[sun_moon.is_legendary == sun_moon.predicted][[\"name\", \"japanese_name\", \"is_legendary\", \"predicted\"]]"
      ],
      "execution_count": 0,
      "outputs": []
    },
    {
      "cell_type": "code",
      "metadata": {
        "id": "QgK3YMU6h7tW",
        "colab_type": "code",
        "colab": {}
      },
      "source": [
        "sun_moon[sun_moon.is_legendary != sun_moon.predicted][[\"name\", \"japanese_name\", \"is_legendary\", \"predicted\"]]"
      ],
      "execution_count": 0,
      "outputs": []
    },
    {
      "cell_type": "markdown",
      "metadata": {
        "id": "TibSnDpCqPUY",
        "colab_type": "text"
      },
      "source": [
        "#### Evaluation"
      ]
    },
    {
      "cell_type": "code",
      "metadata": {
        "id": "Fje-mE48ibzR",
        "colab_type": "code",
        "colab": {}
      },
      "source": [
        "from sklearn.metrics import plot_confusion_matrix\n",
        "sns.set_style(\"white\")\n",
        "plot_confusion_matrix(model, X_test, y_test, cmap=\"Blues\")"
      ],
      "execution_count": 0,
      "outputs": []
    },
    {
      "cell_type": "markdown",
      "metadata": {
        "id": "akwY3rlaqWEg",
        "colab_type": "text"
      },
      "source": [
        "#### Model analysis"
      ]
    },
    {
      "cell_type": "code",
      "metadata": {
        "id": "vbi15OqOlK9F",
        "colab_type": "code",
        "colab": {}
      },
      "source": [
        "import numpy as np\n",
        "import matplotlib.pyplot as plt\n",
        "\n",
        "feature_importances = model.feature_importances_\n",
        "sorted_idx = feature_importances.argsort()\n",
        "\n",
        "y_ticks = np.arange(0, len(numerics))\n",
        "fig, ax = plt.subplots()\n",
        "ax.barh(y_ticks, feature_importances[sorted_idx])\n",
        "ax.set_yticklabels(np.array(numerics)[sorted_idx])\n",
        "ax.set_yticks(y_ticks)\n",
        "ax.set_title(\"Random Forest Feature Importances\")\n",
        "fig.tight_layout()\n",
        "plt.show()"
      ],
      "execution_count": 0,
      "outputs": []
    },
    {
      "cell_type": "code",
      "metadata": {
        "id": "0q7MrxLzkkI-",
        "colab_type": "code",
        "colab": {}
      },
      "source": [
        "sun_moon[sun_moon.is_legendary != sun_moon.predicted][[\"name\", \"japanese_name\", \"is_legendary\", \"predicted\"] + numerics].style.bar(numerics, color=\"lightblue\")"
      ],
      "execution_count": 0,
      "outputs": []
    },
    {
      "cell_type": "markdown",
      "metadata": {
        "id": "0jlYZYXmvgZT",
        "colab_type": "text"
      },
      "source": [
        "## Pokèmon Battle"
      ]
    },
    {
      "cell_type": "markdown",
      "metadata": {
        "id": "lynyli8tvoWY",
        "colab_type": "text"
      },
      "source": [
        "### Load Data"
      ]
    },
    {
      "cell_type": "code",
      "metadata": {
        "id": "5Vp4N1j4vtEK",
        "colab_type": "code",
        "colab": {}
      },
      "source": [
        "import json\n",
        "from pathlib import Path\n",
        "ladder = 'gen8battlestadiumsingles' # gen8\n",
        "dataset_path = Path(\"PokemonAnalytics\") / \"data\" /\"battle\" / f\"{ladder}_dataset.json\"\n",
        "raw_data = json.loads(dataset_path.read_text())\n",
        "teams = raw_data[\"train\"] + raw_data[\"valid\"]"
      ],
      "execution_count": 0,
      "outputs": []
    },
    {
      "cell_type": "markdown",
      "metadata": {
        "id": "1c7s2SGA2kUH",
        "colab_type": "text"
      },
      "source": [
        "### Frequency"
      ]
    },
    {
      "cell_type": "code",
      "metadata": {
        "id": "qF7Fdi6QwnfT",
        "colab_type": "code",
        "colab": {}
      },
      "source": [
        "from collections import Counter\n",
        "\n",
        "def frequency(teams, pokemons=None):\n",
        "  counter = Counter()\n",
        "  for team in teams:\n",
        "    if not team:\n",
        "      continue\n",
        "    elif not pokemons:\n",
        "      counter.update(team)\n",
        "    else:\n",
        "      if set(pokemons).issubset(set(team)):\n",
        "        counter.update(team)\n",
        "\n",
        "  return counter"
      ],
      "execution_count": 0,
      "outputs": []
    },
    {
      "cell_type": "code",
      "metadata": {
        "id": "Ldtdx-oGyL7i",
        "colab_type": "code",
        "colab": {}
      },
      "source": [
        "counter = frequency(teams)"
      ],
      "execution_count": 0,
      "outputs": []
    },
    {
      "cell_type": "code",
      "metadata": {
        "id": "Ag6fhftl2a--",
        "colab_type": "code",
        "colab": {}
      },
      "source": [
        "names, freqs = zip(*counter.most_common())\n",
        "df = pd.DataFrame([freqs], columns=names, index=['freq']).T\n",
        "df.head(10)"
      ],
      "execution_count": 0,
      "outputs": []
    },
    {
      "cell_type": "code",
      "metadata": {
        "id": "5O3WbW0U7zzC",
        "colab_type": "code",
        "colab": {}
      },
      "source": [
        "barplot = sns.barplot(\n",
        "    data=df.T,\n",
        ")\n",
        "barplot.figure.set_figheight(10)\n",
        "barplot.figure.set_figwidth(30)"
      ],
      "execution_count": 0,
      "outputs": []
    },
    {
      "cell_type": "markdown",
      "metadata": {
        "id": "5awXrOaW2aX7",
        "colab_type": "text"
      },
      "source": [
        "### Co-occurrence\n"
      ]
    },
    {
      "cell_type": "code",
      "metadata": {
        "id": "SRCL37WV23ZK",
        "colab_type": "code",
        "colab": {}
      },
      "source": [
        "counter = frequency(teams, pokemons=[\"mimikyu\"])"
      ],
      "execution_count": 0,
      "outputs": []
    },
    {
      "cell_type": "code",
      "metadata": {
        "id": "nqqZsZTQ3Bnf",
        "colab_type": "code",
        "colab": {}
      },
      "source": [
        "names, freqs = zip(*counter.most_common())\n",
        "df = pd.DataFrame([freqs], columns=names, index=['freq']).T\n",
        "df.head(10)"
      ],
      "execution_count": 0,
      "outputs": []
    },
    {
      "cell_type": "code",
      "metadata": {
        "id": "LFA8JKBqjB1I",
        "colab_type": "code",
        "colab": {}
      },
      "source": [
        "counter = frequency(teams, pokemons=[\"mimikyu\", \"dragapult\"])"
      ],
      "execution_count": 0,
      "outputs": []
    },
    {
      "cell_type": "code",
      "metadata": {
        "id": "qFMMNPxsjIK3",
        "colab_type": "code",
        "colab": {}
      },
      "source": [
        "names, freqs = zip(*counter.most_common())\n",
        "df = pd.DataFrame([freqs], columns=names, index=['freq']).T\n",
        "df.head(10)"
      ],
      "execution_count": 0,
      "outputs": []
    },
    {
      "cell_type": "markdown",
      "metadata": {
        "id": "oU_WtdLxj_Eu",
        "colab_type": "text"
      },
      "source": [
        "### Co-occurrence Network"
      ]
    },
    {
      "cell_type": "code",
      "metadata": {
        "id": "5egIsGsaj-Aq",
        "colab_type": "code",
        "colab": {}
      },
      "source": [
        "from itertools import combinations\n",
        "combinations_in_teams = [list(combinations(team, 2)) for team in teams]\n",
        "combinations_in_teams = [[tuple(sorted(combination)) for combination in combinations] for combinations in combinations_in_teams]\n",
        "combinations = set(sum(combinations_in_teams, []))"
      ],
      "execution_count": 0,
      "outputs": []
    },
    {
      "cell_type": "code",
      "metadata": {
        "id": "QWs-IZado08h",
        "colab_type": "code",
        "colab": {}
      },
      "source": [
        "def pokemons_similarity(teams, poke1, poke2):\n",
        "  intersection = len([team for team in teams if (poke1 in team) and (poke2 in team)])\n",
        "  union = len([team for team in teams if (poke1 in team) or (poke2 in team)])\n",
        "  return intersection / union"
      ],
      "execution_count": 0,
      "outputs": []
    },
    {
      "cell_type": "code",
      "metadata": {
        "id": "NpBti_WJsdnr",
        "colab_type": "code",
        "colab": {}
      },
      "source": [
        "edges = [(poke1, poke2, pokemons_similarity(teams, poke1, poke2)) for poke1, poke2 in combinations]"
      ],
      "execution_count": 0,
      "outputs": []
    },
    {
      "cell_type": "code",
      "metadata": {
        "id": "HORicEWPw3xq",
        "colab_type": "code",
        "colab": {}
      },
      "source": [
        "edges_df = pd.DataFrame(edges, columns=[\"source\", \"destination\", \"weight\"])\n",
        "edges_df.head()"
      ],
      "execution_count": 0,
      "outputs": []
    },
    {
      "cell_type": "code",
      "metadata": {
        "id": "hYLEiNTE-ail",
        "colab_type": "code",
        "colab": {}
      },
      "source": [
        "edges_df.plot.hist(bins=20)"
      ],
      "execution_count": 0,
      "outputs": []
    },
    {
      "cell_type": "code",
      "metadata": {
        "id": "fpnYWsg-s6zn",
        "colab_type": "code",
        "colab": {}
      },
      "source": [
        "from pyvis.network import Network\n",
        "\n",
        "network = Network(height=\"1000px\", width=\"95%\", bgcolor=\"#FFFFFF\", font_color=\"black\", notebook=True)\n",
        "network.force_atlas_2based()\n",
        "threshold = (\n",
        "    # 0.027 # top 25%\n",
        "    0.111 # top 100\n",
        "    # 0.249 # top 10\n",
        ")\n",
        "\n",
        "for edge in edges:\n",
        "  source, destination, weight = edge\n",
        "  if weight < threshold:\n",
        "    continue\n",
        "  network.add_node(source, source, title=source)\n",
        "  network.add_node(destination, destination, title=destination)\n",
        "  network.add_edge(source, destination, value=weight)\n",
        "\n",
        "neighbor_map = network.get_adj_list()\n",
        "\n",
        "for node in network.nodes:\n",
        "  node[\"title\"] += \" Neighbors:<br>\" + \"<br>\".join(neighbor_map[node[\"id\"]])\n",
        "  node[\"value\"] = len(neighbor_map[node[\"id\"]])\n",
        "\n",
        "network.show_buttons(filter_=['physics'])\n",
        "network.save_graph(\"co-occurence.html\")"
      ],
      "execution_count": 0,
      "outputs": []
    },
    {
      "cell_type": "markdown",
      "metadata": {
        "id": "TVRfLU0ExXXG",
        "colab_type": "text"
      },
      "source": [
        "## Next Steps\n",
        "\n",
        "### More samples!\n",
        "\n",
        "- [Exploring the Pokemon dataset with pandas and seaborn | In Machines We Trust](https://inmachineswetrust.com/posts/exploring-pokemon-dataset/)\n",
        "\n",
        "## More datsets!\n",
        "\n",
        "Following datasets are available to explore the pokèmon world.\n",
        "\n",
        "- Pokemon Sun and Moon (Gen 7) Stats https://www.kaggle.com/mylesoneill/pokemon-sun-and-moon-gen-7-stats\n",
        "- Pokemon with stats Kaggle https://www.kaggle.com/abcsds/pokemon\n"
      ]
    }
  ]
}